{
 "cells": [
  {
   "cell_type": "markdown",
   "id": "81edc832",
   "metadata": {},
   "source": [
    "# Python Video Analysis"
   ]
  },
  {
   "cell_type": "code",
   "execution_count": 1,
   "id": "184e27c1",
   "metadata": {},
   "outputs": [],
   "source": [
    "import numpy as np\n",
    "from matplotlib import pyplot as plt"
   ]
  },
  {
   "cell_type": "code",
   "execution_count": 2,
   "id": "1b7394a9",
   "metadata": {},
   "outputs": [],
   "source": [
    "import pathlib\n",
    "import json"
   ]
  },
  {
   "cell_type": "code",
   "execution_count": 3,
   "id": "6e95976b",
   "metadata": {},
   "outputs": [],
   "source": [
    "import cv2"
   ]
  },
  {
   "cell_type": "code",
   "execution_count": 4,
   "id": "1fe30d58",
   "metadata": {},
   "outputs": [],
   "source": [
    "import av"
   ]
  },
  {
   "cell_type": "markdown",
   "id": "bc01a0a2",
   "metadata": {},
   "source": [
    "### Download mp4 from youtube"
   ]
  },
  {
   "cell_type": "code",
   "execution_count": 1,
   "id": "8b659a33",
   "metadata": {},
   "outputs": [],
   "source": [
    "import yt_dlp"
   ]
  },
  {
   "cell_type": "code",
   "execution_count": 37,
   "id": "243a9338",
   "metadata": {},
   "outputs": [
    {
     "name": "stdout",
     "output_type": "stream",
     "text": [
      "[youtube] Extracting URL: https://www.youtube.com/watch?v=thBfYfz1OaM\n",
      "[youtube] thBfYfz1OaM: Downloading webpage\n",
      "[youtube] thBfYfz1OaM: Downloading tv client config\n",
      "[youtube] thBfYfz1OaM: Downloading player 22f02d3d-main\n",
      "[youtube] thBfYfz1OaM: Downloading tv player API JSON\n",
      "[youtube] thBfYfz1OaM: Downloading ios player API JSON\n",
      "[youtube] thBfYfz1OaM: Downloading m3u8 information\n",
      "[info] thBfYfz1OaM: Downloading 1 format(s): 616+251\n",
      "[hlsnative] Downloading m3u8 manifest\n",
      "[hlsnative] Total fragments: 582\n",
      "[download] Destination: pbvideo/Staksrud⧸Patriquin v McGuffin⧸Bar at the Veolia North Carolina Open.f616.mp4\n",
      "[download] 100% of    1.61GiB in 00:01:30 at 18.18MiB/s                  \n",
      "[download] Destination: pbvideo/Staksrud⧸Patriquin v McGuffin⧸Bar at the Veolia North Carolina Open.f251.webm\n",
      "[download] 100% of   40.87MiB in 00:00:01 at 28.80MiB/s    \n",
      "[Merger] Merging formats into \"pbvideo/Staksrud⧸Patriquin v McGuffin⧸Bar at the Veolia North Carolina Open.mp4\"\n",
      "Deleting original file pbvideo/Staksrud⧸Patriquin v McGuffin⧸Bar at the Veolia North Carolina Open.f251.webm (pass -k to keep)\n",
      "Deleting original file pbvideo/Staksrud⧸Patriquin v McGuffin⧸Bar at the Veolia North Carolina Open.f616.mp4 (pass -k to keep)\n"
     ]
    }
   ],
   "source": [
    "url = 'https://www.youtube.com/watch?v=thBfYfz1OaM'\n",
    "\n",
    "ydl_opts = {\n",
    "    'format': 'bestvideo+bestaudio/best',\n",
    "    'merge_output_format': 'mp4',  # Always output MP4,\n",
    "    'outtmpl': 'pbvideo/%(title)s.%(ext)s',  # Save as \"title.mp4\"\n",
    "}\n",
    "\n",
    "with yt_dlp.YoutubeDL(ydl_opts) as ydl:\n",
    "    ydl.download([url])"
   ]
  },
  {
   "cell_type": "markdown",
   "id": "171c94bb",
   "metadata": {},
   "source": [
    "### Pass 1 Processing"
   ]
  },
  {
   "cell_type": "markdown",
   "id": "cbab1d0b",
   "metadata": {},
   "source": [
    "Timing for 2000 frames:\n",
    " - convert to gray: 8.8s\n",
    " - tracker.track(): 13.5s\n",
    "\n",
    "Original defaults:\n",
    "```\n",
    "threshold=10.0, maxCorners=100, qualityLevel=0.03, minDistance=30, blockSize=3, maxCount=30, epsilon=0.01\n",
    "```"
   ]
  },
  {
   "cell_type": "code",
   "execution_count": 5,
   "id": "bce7926b",
   "metadata": {},
   "outputs": [],
   "source": [
    "class CameraMotionTracker:\n",
    "\n",
    "    def __init__(self, threshold=5.0, maxCorners=100, qualityLevel=0.03, minDistance=30,\n",
    "                 blockSize=3, maxCount=30, epsilon=0.01):\n",
    "        self.threshold = threshold\n",
    "        self.feature_params = dict(\n",
    "            maxCorners=maxCorners, qualityLevel=qualityLevel,\n",
    "            minDistance=minDistance, blockSize=blockSize)\n",
    "        self.maxCount = maxCount\n",
    "        self.epsilon = epsilon\n",
    "        self.prev_pts = None\n",
    "        self.prev_gray = None\n",
    "        self.motion = [ ]\n",
    "\n",
    "    def track(self, gray, verbose=False):\n",
    "        iframe = len(self.motion)\n",
    "        if self.prev_gray is None:\n",
    "            # first frame\n",
    "            if verbose:\n",
    "                print(f\"frame[{iframe}] first frame\")\n",
    "            self.motion.append(-1)\n",
    "        elif self.prev_pts is None:\n",
    "            # calculate new tracking points from the previous frame\n",
    "            if verbose:\n",
    "                print(f\"frame[{iframe}] calculate new tracking points from previous frame\")\n",
    "            self.motion.append(-1)\n",
    "            self.prev_pts = cv2.goodFeaturesToTrack(self.prev_gray, mask=None, **self.feature_params)\n",
    "        else:\n",
    "            # calculate motion from the previous frame to the current frame using optical flow\n",
    "            next_pts, status, err = cv2.calcOpticalFlowPyrLK(\n",
    "                self.prev_gray, gray, self.prev_pts, None,\n",
    "                winSize=(21,21), maxLevel=3,\n",
    "                criteria=(cv2.TERM_CRITERIA_EPS|cv2.TERM_CRITERIA_COUNT, self.maxCount, self.epsilon))\n",
    "            if next_pts is None or status is None:\n",
    "                # failed to calculate optical flow\n",
    "                if verbose:\n",
    "                    print(f\"frame[{iframe}] failed to calculate optical flow\")\n",
    "                self.motion.append(-1)\n",
    "                self.prev_pts = None\n",
    "            else:\n",
    "                # find points that were successfully tracked\n",
    "                good_mask = (status.flatten() == 1) & (err.flatten() < self.threshold)\n",
    "                good_prev = self.prev_pts[good_mask]\n",
    "                good_next = next_pts[good_mask]\n",
    "                if good_prev.shape[0] < 5:\n",
    "                    # not enough points in common to track\n",
    "                    if verbose:\n",
    "                        print(f\"frame[{iframe}] not enough points in common to track: {good_prev.shape[0]}\")\n",
    "                    self.motion.append(-1)\n",
    "                    self.prev_pts = None\n",
    "                else:\n",
    "                    disp = np.linalg.norm(good_next - good_prev, axis=1)\n",
    "                    if verbose:\n",
    "                        print(f\"frame[{iframe}] {good_prev.shape[0]} points tracked, disp: {disp.mean():.2f}\")\n",
    "                    self.motion.append(float(disp.mean()))\n",
    "                    self.prev_pts = good_next.reshape(-1,1,2) if good_next.size else None\n",
    "        self.prev_gray = gray"
   ]
  },
  {
   "cell_type": "code",
   "execution_count": 10,
   "id": "1cf1c0a1",
   "metadata": {},
   "outputs": [],
   "source": [
    "def pass1(filename, maxframes=300, verbose=False):\n",
    "    filename = pathlib.Path(filename)\n",
    "    if not filename.exists():\n",
    "        print(f\"File {filename} does not exist\")\n",
    "        return\n",
    "    container = av.open(filename, options={'hwaccel': 'videotoolbox'})\n",
    "    stream = container.streams.video[0]\n",
    "    fps = stream.average_rate\n",
    "    nframes = stream.frames\n",
    "    print(f\"fps: {fps}, nframes: {nframes}\")\n",
    "    tracker = CameraMotionTracker()\n",
    "    frame_times = []\n",
    "    for iframe, frame in enumerate(container.decode(stream)):\n",
    "        tframe = iframe / (92455000/3081833)\n",
    "        frame_times.append(tframe)\n",
    "        # Convert to numpy array\n",
    "        img = frame.to_ndarray(format='bgr24')\n",
    "        # Save the first frame to a JPG image\n",
    "        if iframe == 0:\n",
    "            cv2.imwrite(str(filename.with_suffix('.jpg')), img)\n",
    "        # Convert to grayscale\n",
    "        gray = cv2.cvtColor(img, cv2.COLOR_BGR2GRAY)\n",
    "        # Check for camera motion\n",
    "        tracker.track(gray, verbose=verbose)\n",
    "        if iframe % 1000 == 0:\n",
    "            print(f\"Frame {iframe}\")\n",
    "        if maxframes > 0 and iframe >= maxframes:\n",
    "            break\n",
    "\n",
    "    # Save results to a json file\n",
    "    outname = filename.with_suffix('.json')\n",
    "    print(f\"Writing {outname}\")\n",
    "    motion = [ round(100 * m) for m in tracker.motion ]\n",
    "    results = dict(name=str(filename), fps=float(fps), nframes=nframes,\n",
    "                   motion=motion, frame_times=frame_times)\n",
    "    with open(outname, 'w') as f:\n",
    "        json.dump(results, f, indent=0)\n",
    "\n",
    "    return tracker.motion"
   ]
  },
  {
   "cell_type": "code",
   "execution_count": 11,
   "id": "a5959150",
   "metadata": {},
   "outputs": [
    {
     "name": "stdout",
     "output_type": "stream",
     "text": [
      "fps: 92455000/3081833, nframes: 92455\n",
      "Frame 0\n",
      "Frame 1000\n",
      "Frame 2000\n",
      "Frame 3000\n",
      "Frame 4000\n",
      "Frame 5000\n",
      "Frame 6000\n",
      "Frame 7000\n",
      "Frame 8000\n",
      "Frame 9000\n",
      "Frame 10000\n",
      "Frame 11000\n",
      "Frame 12000\n",
      "Frame 13000\n",
      "Frame 14000\n",
      "Frame 15000\n",
      "Frame 16000\n",
      "Frame 17000\n",
      "Frame 18000\n",
      "Frame 19000\n",
      "Frame 20000\n",
      "Frame 21000\n",
      "Frame 22000\n",
      "Frame 23000\n",
      "Frame 24000\n",
      "Frame 25000\n",
      "Frame 26000\n",
      "Frame 27000\n",
      "Frame 28000\n",
      "Frame 29000\n",
      "Frame 30000\n",
      "Frame 31000\n",
      "Frame 32000\n",
      "Frame 33000\n",
      "Frame 34000\n",
      "Frame 35000\n",
      "Frame 36000\n",
      "Frame 37000\n",
      "Frame 38000\n",
      "Frame 39000\n",
      "Frame 40000\n",
      "Frame 41000\n",
      "Frame 42000\n",
      "Frame 43000\n",
      "Frame 44000\n",
      "Frame 45000\n",
      "Frame 46000\n",
      "Frame 47000\n",
      "Frame 48000\n",
      "Frame 49000\n",
      "Frame 50000\n",
      "Frame 51000\n",
      "Frame 52000\n",
      "Frame 53000\n",
      "Frame 54000\n",
      "Frame 55000\n",
      "Frame 56000\n",
      "Frame 57000\n",
      "Frame 58000\n",
      "Frame 59000\n",
      "Frame 60000\n",
      "Frame 61000\n",
      "Frame 62000\n",
      "Frame 63000\n",
      "Frame 64000\n",
      "Frame 65000\n",
      "Frame 66000\n",
      "Frame 67000\n",
      "Frame 68000\n",
      "Frame 69000\n",
      "Frame 70000\n",
      "Frame 71000\n",
      "Frame 72000\n",
      "Frame 73000\n",
      "Frame 74000\n",
      "Frame 75000\n",
      "Frame 76000\n",
      "Frame 77000\n",
      "Frame 78000\n",
      "Frame 79000\n",
      "Frame 80000\n",
      "Frame 81000\n",
      "Frame 82000\n",
      "Frame 83000\n",
      "Frame 84000\n",
      "Frame 85000\n",
      "Frame 86000\n",
      "Frame 87000\n",
      "Frame 88000\n",
      "Frame 89000\n",
      "Frame 90000\n",
      "Frame 91000\n",
      "Frame 92000\n",
      "Writing public/pbvideo/sample.json\n"
     ]
    }
   ],
   "source": [
    "M = pass1('public/pbvideo/sample.mp4', maxframes=0, verbose=False)"
   ]
  },
  {
   "cell_type": "code",
   "execution_count": 59,
   "id": "ebfa6e22",
   "metadata": {},
   "outputs": [
    {
     "data": {
      "text/plain": [
       "[<matplotlib.lines.Line2D at 0x31fbbf4d0>]"
      ]
     },
     "execution_count": 59,
     "metadata": {},
     "output_type": "execute_result"
    },
    {
     "data": {
      "image/png": "[encoded data removed]",
      "text/plain": [
       "<Figure size 640x480 with 1 Axes>"
      ]
     },
     "metadata": {},
     "output_type": "display_data"
    }
   ],
   "source": [
    "plt.plot(M[:700])"
   ]
  },
  {
   "cell_type": "code",
   "execution_count": null,
   "id": "b2d3d6c3",
   "metadata": {},
   "outputs": [],
   "source": []
  }
 ],
 "metadata": {
  "kernelspec": {
   "display_name": "pbvideo",
   "language": "python",
   "name": "python3"
  },
  "language_info": {
   "codemirror_mode": {
    "name": "ipython",
    "version": 3
   },
   "file_extension": ".py",
   "mimetype": "text/x-python",
   "name": "python",
   "nbconvert_exporter": "python",
   "pygments_lexer": "ipython3",
   "version": "3.11.7"
  }
 },
 "nbformat": 4,
 "nbformat_minor": 5
}
